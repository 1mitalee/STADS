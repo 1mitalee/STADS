{
 "cells": [
  {
   "cell_type": "code",
   "execution_count": 2,
   "metadata": {},
   "outputs": [],
   "source": [
    "#from Sensor_Modelling\\Functions\\Variables import se_Magnitude_Limit\n",
    "\n",
    "from Sensor_Modelling.Functions.Variables import se_Magnitude_Limit"
   ]
  },
  {
   "cell_type": "code",
   "execution_count": 3,
   "metadata": {},
   "outputs": [
    {
     "data": {
      "text/plain": [
       "6"
      ]
     },
     "execution_count": 3,
     "metadata": {},
     "output_type": "execute_result"
    }
   ],
   "source": [
    "se_Magnitude_Limit"
   ]
  },
  {
   "cell_type": "code",
   "execution_count": 1,
   "metadata": {},
   "outputs": [],
   "source": [
    "# Import Libraries\n",
    "import numpy as np\n",
    "import pandas as pd\n",
    "from matplotlib import pyplot as plt\n",
    "import matplotlib.image as mpimg\n",
    "import os\n",
    "\n",
    "# Initialise variables\n",
    "from Sensor_Modelling.Functions.Variables import *\n",
    "\n",
    "# Import Functions\n",
    "from Sensor_Modelling.Functions.SensorModelling_Functions import *\n",
    "from Sensor_Modelling.Functions.SensorModelling_Functions_2 import *\n",
    "from Sensor_Modelling.Functions.Other_Functions import *"
   ]
  },
  {
   "cell_type": "code",
   "execution_count": 6,
   "metadata": {},
   "outputs": [
    {
     "name": "stdout",
     "output_type": "stream",
     "text": [
      "Catalogue read\n",
      "Dataframe generated\n",
      "Image generated\n"
     ]
    }
   ],
   "source": [
    "def main(debug = False):\n",
    "    se_count = se_get_var_value()\n",
    "    \n",
    "    # Import Catalogue\n",
    "    CATALOGUE = pd.read_csv(\"Sensor_Modelling/Preprocessing/Simulation_HYG.csv\")\n",
    "    CATALOGUE.sort_values('Mag', inplace = True)\n",
    "    # The Star Catalogue being used is the HYG Database\n",
    "    # StarID: The database primary key from a larger \"master database\" of stars\n",
    "    # Mag: The star's apparent visual magnitude\n",
    "    # RA, Dec: The star's right ascension and declination, for epoch 2000.0 (Unit: RA - hrs; Dec - degrees)\n",
    "    if debug: print(\"Catalogue read\")\n",
    "    \n",
    "    # The following pandas dataframe 'IMG_Data' contains the coordinates of the stars in the sensor frame\n",
    "    IMG_Data = generateImageDataframe(CATALOGUE, RA, Dec, Circular_FOV, se_Magnitude_Limit, ra_hrs = False)\n",
    "    IMG_Data['Roll'] = Roll\n",
    "    IMG_Data = IMG_Data.apply(generateCoordinates3D, result_type = 'expand', axis=1).rename(columns = {0 : \"x\", 1 : \"y\", 2 : \"z\", 3 : \"Mag\"})\n",
    "    IMG_Data = IMG_Data.apply(imageFrameCoordinates, result_type = 'expand', axis=1).rename(columns = {0 : \"x\", 1 : \"y\", 2 : \"Mag\"})\n",
    "    if debug: print('Dataframe generated')\n",
    "    \n",
    "    # Generating the image\n",
    "    Image = np.zeros((CMOS_Width, CMOS_Length))\n",
    "    #generateImage(Image, IMG_Data)\n",
    "\n",
    "    # Trimming the data to within the boundary\n",
    "    IMG_Data = IMG_Data[IMG_Data['x'] < pixel_size * CMOS_Length / 2]\n",
    "    IMG_Data = IMG_Data[IMG_Data['x'] > - pixel_size * CMOS_Length / 2]\n",
    "    IMG_Data = IMG_Data[IMG_Data['y'] < pixel_size * CMOS_Width / 2]\n",
    "    IMG_Data = IMG_Data[IMG_Data['y'] > - pixel_size * CMOS_Width / 2]\n",
    "    \n",
    "    # Converting values to arrays - x, y coordinates and brightness magnitude\n",
    "    y = IMG_Data.iloc[:,0].values / pixel_size\n",
    "    x = IMG_Data.iloc[:,1].values / pixel_size\n",
    "    b = IMG_Data.iloc[:,2].values\n",
    "    \n",
    "    # n is the number of stars in the image\n",
    "    n = IMG_Data.shape[0]\n",
    "    \n",
    "    \n",
    "    for i in np.arange(n):\n",
    "        for j in np.arange(int(x[i] - check_radius) if int(x[i] - check_radius) > 0 else 0, int(x[i] + check_radius) if int(x[i] + check_radius) < CMOS_Width else CMOS_Width):\n",
    "            for k in np.arange(int(y[i] - check_radius) if int(y[i] - check_radius) > 0 else 0, int(y[i] + check_radius) if int(y[i] + check_radius) < CMOS_Length else CMOS_Length):\n",
    "                Image[j][k] = Image[j][k] + f(j, k, H(b[i]), sigma, (x[i] + CMOS_Width / 2), (y[i] + CMOS_Length / 2))\n",
    "    \n",
    "    if debug: print('Image generated')\n",
    "        \n",
    "    mpimg.imsave(\"Sensor_Modelling/Output/Image.png\", Image, cmap='gray', vmax = 255)\n",
    "    se_dirName = 'Sensor_Modelling/Output/History/' + \"{0:0=3d}\".format(se_count)\n",
    "    os.mkdir(se_dirName)\n",
    "    mpimg.imsave(os.path.join(se_dirName , 'Image.png'), Image, cmap='gray', vmax = 255)\n",
    "\n",
    "\n",
    "main(debug = True)"
   ]
  },
  {
   "cell_type": "code",
   "execution_count": 5,
   "metadata": {},
   "outputs": [
    {
     "data": {
      "text/plain": [
       "5"
      ]
     },
     "execution_count": 5,
     "metadata": {},
     "output_type": "execute_result"
    }
   ],
   "source": [
    "4 if 2 > 3 else 5"
   ]
  },
  {
   "cell_type": "code",
   "execution_count": null,
   "metadata": {},
   "outputs": [],
   "source": []
  }
 ],
 "metadata": {
  "kernelspec": {
   "display_name": "Python 3",
   "language": "python",
   "name": "python3"
  },
  "language_info": {
   "codemirror_mode": {
    "name": "ipython",
    "version": 3
   },
   "file_extension": ".py",
   "mimetype": "text/x-python",
   "name": "python",
   "nbconvert_exporter": "python",
   "pygments_lexer": "ipython3",
   "version": "3.7.6"
  }
 },
 "nbformat": 4,
 "nbformat_minor": 2
}
